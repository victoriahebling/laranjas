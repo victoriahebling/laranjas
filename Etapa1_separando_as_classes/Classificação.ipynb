{
  "nbformat": 4,
  "nbformat_minor": 0,
  "metadata": {
    "colab": {
      "name": "Classificação.ipynb",
      "provenance": [],
      "include_colab_link": true
    },
    "kernelspec": {
      "name": "python3",
      "display_name": "Python 3"
    },
    "language_info": {
      "name": "python"
    }
  },
  "cells": [
    {
      "cell_type": "markdown",
      "metadata": {
        "id": "view-in-github",
        "colab_type": "text"
      },
      "source": [
        "<a href=\"https://colab.research.google.com/github/victoriahebling/laranjas/blob/main/Etapa1_separando_as_classes/Classifica%C3%A7%C3%A3o.ipynb\" target=\"_parent\"><img src=\"https://colab.research.google.com/assets/colab-badge.svg\" alt=\"Open In Colab\"/></a>"
      ]
    },
    {
      "cell_type": "code",
      "metadata": {
        "id": "bpmxqNZGxCHN"
      },
      "source": [
        "import numpy as np\n",
        "import pandas as pd\n",
        "from google.colab import files"
      ],
      "execution_count": null,
      "outputs": []
    },
    {
      "cell_type": "code",
      "metadata": {
        "id": "B2ENkji6xKIf",
        "colab": {
          "base_uri": "https://localhost:8080/"
        },
        "outputId": "cf568a55-ad65-428b-87c6-1aff8e9d19c2"
      },
      "source": [
        "!git clone https://github.com/ucfilho/Victoria_Master\n",
        "%cd Victoria_Master"
      ],
      "execution_count": null,
      "outputs": [
        {
          "output_type": "stream",
          "text": [
            "Cloning into 'Victoria_Master'...\n",
            "remote: Enumerating objects: 11, done.\u001b[K\n",
            "remote: Counting objects: 100% (11/11), done.\u001b[K\n",
            "remote: Compressing objects: 100% (8/8), done.\u001b[K\n",
            "remote: Total 11 (delta 1), reused 0 (delta 0), pack-reused 0\u001b[K\n",
            "Unpacking objects: 100% (11/11), done.\n",
            "/content/Victoria_Master\n"
          ],
          "name": "stdout"
        }
      ]
    },
    {
      "cell_type": "code",
      "metadata": {
        "id": "Im-_gzDcxweK"
      },
      "source": [
        "# leitura dos dados\n",
        "df =pd.read_excel(\"Dados laranjas.xlsx\")"
      ],
      "execution_count": null,
      "outputs": []
    },
    {
      "cell_type": "code",
      "metadata": {
        "id": "iECc_xGzyFzy",
        "colab": {
          "base_uri": "https://localhost:8080/"
        },
        "outputId": "e32e0580-7736-4a18-8bf5-9ab59f38fbf3"
      },
      "source": [
        "!ls"
      ],
      "execution_count": null,
      "outputs": [
        {
          "output_type": "stream",
          "text": [
            "'Dados laranjas.xlsx'   Etapa1\t README.md\n"
          ],
          "name": "stdout"
        }
      ]
    },
    {
      "cell_type": "code",
      "metadata": {
        "id": "cTKwFcMMx-R2",
        "colab": {
          "base_uri": "https://localhost:8080/",
          "height": 296
        },
        "outputId": "ff16db76-c1cf-4eae-b9e2-7ae1d2943f04"
      },
      "source": [
        "df.describe() # summary"
      ],
      "execution_count": null,
      "outputs": [
        {
          "output_type": "execute_result",
          "data": {
            "text/html": [
              "<div>\n",
              "<style scoped>\n",
              "    .dataframe tbody tr th:only-of-type {\n",
              "        vertical-align: middle;\n",
              "    }\n",
              "\n",
              "    .dataframe tbody tr th {\n",
              "        vertical-align: top;\n",
              "    }\n",
              "\n",
              "    .dataframe thead th {\n",
              "        text-align: right;\n",
              "    }\n",
              "</style>\n",
              "<table border=\"1\" class=\"dataframe\">\n",
              "  <thead>\n",
              "    <tr style=\"text-align: right;\">\n",
              "      <th></th>\n",
              "      <th>Tipo</th>\n",
              "      <th>Laranja</th>\n",
              "      <th>Massa (g)</th>\n",
              "      <th>Volume de suco (mL)</th>\n",
              "      <th>Ph do suco</th>\n",
              "      <th>Temperatura suco °C</th>\n",
              "      <th>Brix suco</th>\n",
              "      <th>comprimento (cm)</th>\n",
              "      <th>largura (cm)</th>\n",
              "      <th>Furo</th>\n",
              "      <th>Temperatura ambiente °C</th>\n",
              "      <th>Unnamed: 11</th>\n",
              "    </tr>\n",
              "  </thead>\n",
              "  <tbody>\n",
              "    <tr>\n",
              "      <th>count</th>\n",
              "      <td>80.0</td>\n",
              "      <td>80.0000</td>\n",
              "      <td>60.000000</td>\n",
              "      <td>60.000000</td>\n",
              "      <td>60.000000</td>\n",
              "      <td>60.000000</td>\n",
              "      <td>60.000000</td>\n",
              "      <td>60.00000</td>\n",
              "      <td>60.000000</td>\n",
              "      <td>60.00000</td>\n",
              "      <td>60.000000</td>\n",
              "      <td>0.0</td>\n",
              "    </tr>\n",
              "    <tr>\n",
              "      <th>mean</th>\n",
              "      <td>1.0</td>\n",
              "      <td>40.5000</td>\n",
              "      <td>148.216667</td>\n",
              "      <td>83.098333</td>\n",
              "      <td>4.054667</td>\n",
              "      <td>21.233333</td>\n",
              "      <td>9.605000</td>\n",
              "      <td>6.51150</td>\n",
              "      <td>6.449333</td>\n",
              "      <td>3.70000</td>\n",
              "      <td>21.533333</td>\n",
              "      <td>NaN</td>\n",
              "    </tr>\n",
              "    <tr>\n",
              "      <th>std</th>\n",
              "      <td>0.0</td>\n",
              "      <td>23.2379</td>\n",
              "      <td>27.435034</td>\n",
              "      <td>21.018487</td>\n",
              "      <td>0.185605</td>\n",
              "      <td>1.468155</td>\n",
              "      <td>0.934721</td>\n",
              "      <td>0.49169</td>\n",
              "      <td>0.439263</td>\n",
              "      <td>0.97945</td>\n",
              "      <td>1.371213</td>\n",
              "      <td>NaN</td>\n",
              "    </tr>\n",
              "    <tr>\n",
              "      <th>min</th>\n",
              "      <td>1.0</td>\n",
              "      <td>1.0000</td>\n",
              "      <td>94.000000</td>\n",
              "      <td>37.000000</td>\n",
              "      <td>3.640000</td>\n",
              "      <td>19.000000</td>\n",
              "      <td>7.000000</td>\n",
              "      <td>5.48000</td>\n",
              "      <td>5.560000</td>\n",
              "      <td>2.00000</td>\n",
              "      <td>19.000000</td>\n",
              "      <td>NaN</td>\n",
              "    </tr>\n",
              "    <tr>\n",
              "      <th>25%</th>\n",
              "      <td>1.0</td>\n",
              "      <td>20.7500</td>\n",
              "      <td>128.500000</td>\n",
              "      <td>66.000000</td>\n",
              "      <td>3.932500</td>\n",
              "      <td>19.800000</td>\n",
              "      <td>9.000000</td>\n",
              "      <td>6.20750</td>\n",
              "      <td>6.105000</td>\n",
              "      <td>3.00000</td>\n",
              "      <td>21.000000</td>\n",
              "      <td>NaN</td>\n",
              "    </tr>\n",
              "    <tr>\n",
              "      <th>50%</th>\n",
              "      <td>1.0</td>\n",
              "      <td>40.5000</td>\n",
              "      <td>152.500000</td>\n",
              "      <td>86.000000</td>\n",
              "      <td>4.040000</td>\n",
              "      <td>21.100000</td>\n",
              "      <td>9.400000</td>\n",
              "      <td>6.51500</td>\n",
              "      <td>6.520000</td>\n",
              "      <td>4.00000</td>\n",
              "      <td>21.000000</td>\n",
              "      <td>NaN</td>\n",
              "    </tr>\n",
              "    <tr>\n",
              "      <th>75%</th>\n",
              "      <td>1.0</td>\n",
              "      <td>60.2500</td>\n",
              "      <td>167.250000</td>\n",
              "      <td>96.250000</td>\n",
              "      <td>4.192500</td>\n",
              "      <td>22.725000</td>\n",
              "      <td>10.100000</td>\n",
              "      <td>6.89000</td>\n",
              "      <td>6.792500</td>\n",
              "      <td>4.00000</td>\n",
              "      <td>23.000000</td>\n",
              "      <td>NaN</td>\n",
              "    </tr>\n",
              "    <tr>\n",
              "      <th>max</th>\n",
              "      <td>1.0</td>\n",
              "      <td>80.0000</td>\n",
              "      <td>195.000000</td>\n",
              "      <td>130.000000</td>\n",
              "      <td>4.600000</td>\n",
              "      <td>23.300000</td>\n",
              "      <td>12.400000</td>\n",
              "      <td>7.57000</td>\n",
              "      <td>7.120000</td>\n",
              "      <td>6.00000</td>\n",
              "      <td>23.000000</td>\n",
              "      <td>NaN</td>\n",
              "    </tr>\n",
              "  </tbody>\n",
              "</table>\n",
              "</div>"
            ],
            "text/plain": [
              "       Tipo   Laranja  ...  Temperatura ambiente °C  Unnamed: 11\n",
              "count   80.0  80.0000  ...                60.000000          0.0\n",
              "mean     1.0  40.5000  ...                21.533333          NaN\n",
              "std      0.0  23.2379  ...                 1.371213          NaN\n",
              "min      1.0   1.0000  ...                19.000000          NaN\n",
              "25%      1.0  20.7500  ...                21.000000          NaN\n",
              "50%      1.0  40.5000  ...                21.000000          NaN\n",
              "75%      1.0  60.2500  ...                23.000000          NaN\n",
              "max      1.0  80.0000  ...                23.000000          NaN\n",
              "\n",
              "[8 rows x 12 columns]"
            ]
          },
          "metadata": {
            "tags": []
          },
          "execution_count": 6
        }
      ]
    },
    {
      "cell_type": "code",
      "metadata": {
        "id": "2AeKQKMKzEHN",
        "colab": {
          "base_uri": "https://localhost:8080/"
        },
        "outputId": "87e1d19d-8351-4bcf-936d-c497390534ea"
      },
      "source": [
        "Brix = np.array(df['Brix suco'])\n",
        "Y = []\n",
        "for xx in Brix:\n",
        "  if(xx < 9.000000):\n",
        "    Y.append(0)\n",
        "  elif(xx < 9.400000):\n",
        "    Y.append(1)\n",
        "  else:\n",
        "    Y.append(2)\n",
        "\n",
        "print(Y)"
      ],
      "execution_count": null,
      "outputs": [
        {
          "output_type": "stream",
          "text": [
            "[2, 2, 2, 2, 2, 1, 0, 0, 2, 0, 2, 1, 1, 2, 2, 1, 1, 0, 2, 2, 2, 1, 2, 2, 2, 2, 0, 1, 1, 1, 1, 1, 0, 2, 2, 2, 2, 2, 2, 1, 0, 2, 1, 0, 2, 2, 1, 1, 0, 0, 2, 2, 2, 2, 2, 2, 2, 2, 1, 1, 2, 2, 2, 2, 2, 2, 2, 2, 2, 2, 2, 2, 2, 2, 2, 2, 2, 2, 2, 2]\n"
          ],
          "name": "stdout"
        }
      ]
    },
    {
      "cell_type": "code",
      "metadata": {
        "id": "GGjyaL990IJf"
      },
      "source": [
        "df['Brix_Cat']=Y"
      ],
      "execution_count": null,
      "outputs": []
    },
    {
      "cell_type": "code",
      "metadata": {
        "id": "I0ObFvTc0RAd",
        "colab": {
          "base_uri": "https://localhost:8080/",
          "height": 418
        },
        "outputId": "fcfc1ecd-2c79-4a1f-9a80-29838acb27a4"
      },
      "source": [
        "df"
      ],
      "execution_count": null,
      "outputs": [
        {
          "output_type": "execute_result",
          "data": {
            "text/html": [
              "<div>\n",
              "<style scoped>\n",
              "    .dataframe tbody tr th:only-of-type {\n",
              "        vertical-align: middle;\n",
              "    }\n",
              "\n",
              "    .dataframe tbody tr th {\n",
              "        vertical-align: top;\n",
              "    }\n",
              "\n",
              "    .dataframe thead th {\n",
              "        text-align: right;\n",
              "    }\n",
              "</style>\n",
              "<table border=\"1\" class=\"dataframe\">\n",
              "  <thead>\n",
              "    <tr style=\"text-align: right;\">\n",
              "      <th></th>\n",
              "      <th>Tipo</th>\n",
              "      <th>Laranja</th>\n",
              "      <th>Massa (g)</th>\n",
              "      <th>Volume de suco (mL)</th>\n",
              "      <th>Ph do suco</th>\n",
              "      <th>Temperatura suco °C</th>\n",
              "      <th>Brix suco</th>\n",
              "      <th>comprimento (cm)</th>\n",
              "      <th>largura (cm)</th>\n",
              "      <th>Furo</th>\n",
              "      <th>Temperatura ambiente °C</th>\n",
              "      <th>Unnamed: 11</th>\n",
              "      <th>OBSERVAÇÕES</th>\n",
              "      <th>Unnamed: 13</th>\n",
              "      <th>Brix_Cat</th>\n",
              "    </tr>\n",
              "  </thead>\n",
              "  <tbody>\n",
              "    <tr>\n",
              "      <th>0</th>\n",
              "      <td>1</td>\n",
              "      <td>1</td>\n",
              "      <td>112.0</td>\n",
              "      <td>46.0</td>\n",
              "      <td>3.90</td>\n",
              "      <td>22.6</td>\n",
              "      <td>11.4</td>\n",
              "      <td>5.74</td>\n",
              "      <td>5.96</td>\n",
              "      <td>3.0</td>\n",
              "      <td>23.0</td>\n",
              "      <td>NaN</td>\n",
              "      <td>Tipo</td>\n",
              "      <td>NaN</td>\n",
              "      <td>2</td>\n",
              "    </tr>\n",
              "    <tr>\n",
              "      <th>1</th>\n",
              "      <td>1</td>\n",
              "      <td>2</td>\n",
              "      <td>173.0</td>\n",
              "      <td>84.0</td>\n",
              "      <td>3.88</td>\n",
              "      <td>22.1</td>\n",
              "      <td>10.2</td>\n",
              "      <td>6.67</td>\n",
              "      <td>6.88</td>\n",
              "      <td>5.0</td>\n",
              "      <td>23.0</td>\n",
              "      <td>NaN</td>\n",
              "      <td>1</td>\n",
              "      <td>Pera</td>\n",
              "      <td>2</td>\n",
              "    </tr>\n",
              "    <tr>\n",
              "      <th>2</th>\n",
              "      <td>1</td>\n",
              "      <td>3</td>\n",
              "      <td>106.0</td>\n",
              "      <td>50.0</td>\n",
              "      <td>4.16</td>\n",
              "      <td>22.4</td>\n",
              "      <td>10.1</td>\n",
              "      <td>6.04</td>\n",
              "      <td>5.71</td>\n",
              "      <td>2.0</td>\n",
              "      <td>23.0</td>\n",
              "      <td>NaN</td>\n",
              "      <td>NaN</td>\n",
              "      <td>NaN</td>\n",
              "      <td>2</td>\n",
              "    </tr>\n",
              "    <tr>\n",
              "      <th>3</th>\n",
              "      <td>1</td>\n",
              "      <td>4</td>\n",
              "      <td>167.0</td>\n",
              "      <td>90.0</td>\n",
              "      <td>4.02</td>\n",
              "      <td>22.5</td>\n",
              "      <td>11.1</td>\n",
              "      <td>6.71</td>\n",
              "      <td>6.67</td>\n",
              "      <td>4.0</td>\n",
              "      <td>23.0</td>\n",
              "      <td>NaN</td>\n",
              "      <td>Furo</td>\n",
              "      <td>Diâmetro (cm)</td>\n",
              "      <td>2</td>\n",
              "    </tr>\n",
              "    <tr>\n",
              "      <th>4</th>\n",
              "      <td>1</td>\n",
              "      <td>5</td>\n",
              "      <td>94.0</td>\n",
              "      <td>52.0</td>\n",
              "      <td>4.04</td>\n",
              "      <td>22.7</td>\n",
              "      <td>11.4</td>\n",
              "      <td>5.52</td>\n",
              "      <td>5.56</td>\n",
              "      <td>2.0</td>\n",
              "      <td>23.0</td>\n",
              "      <td>NaN</td>\n",
              "      <td>1</td>\n",
              "      <td>5.5</td>\n",
              "      <td>2</td>\n",
              "    </tr>\n",
              "    <tr>\n",
              "      <th>...</th>\n",
              "      <td>...</td>\n",
              "      <td>...</td>\n",
              "      <td>...</td>\n",
              "      <td>...</td>\n",
              "      <td>...</td>\n",
              "      <td>...</td>\n",
              "      <td>...</td>\n",
              "      <td>...</td>\n",
              "      <td>...</td>\n",
              "      <td>...</td>\n",
              "      <td>...</td>\n",
              "      <td>...</td>\n",
              "      <td>...</td>\n",
              "      <td>...</td>\n",
              "      <td>...</td>\n",
              "    </tr>\n",
              "    <tr>\n",
              "      <th>75</th>\n",
              "      <td>1</td>\n",
              "      <td>76</td>\n",
              "      <td>NaN</td>\n",
              "      <td>NaN</td>\n",
              "      <td>NaN</td>\n",
              "      <td>NaN</td>\n",
              "      <td>NaN</td>\n",
              "      <td>NaN</td>\n",
              "      <td>NaN</td>\n",
              "      <td>NaN</td>\n",
              "      <td>NaN</td>\n",
              "      <td>NaN</td>\n",
              "      <td>NaN</td>\n",
              "      <td>NaN</td>\n",
              "      <td>2</td>\n",
              "    </tr>\n",
              "    <tr>\n",
              "      <th>76</th>\n",
              "      <td>1</td>\n",
              "      <td>77</td>\n",
              "      <td>NaN</td>\n",
              "      <td>NaN</td>\n",
              "      <td>NaN</td>\n",
              "      <td>NaN</td>\n",
              "      <td>NaN</td>\n",
              "      <td>NaN</td>\n",
              "      <td>NaN</td>\n",
              "      <td>NaN</td>\n",
              "      <td>NaN</td>\n",
              "      <td>NaN</td>\n",
              "      <td>NaN</td>\n",
              "      <td>NaN</td>\n",
              "      <td>2</td>\n",
              "    </tr>\n",
              "    <tr>\n",
              "      <th>77</th>\n",
              "      <td>1</td>\n",
              "      <td>78</td>\n",
              "      <td>NaN</td>\n",
              "      <td>NaN</td>\n",
              "      <td>NaN</td>\n",
              "      <td>NaN</td>\n",
              "      <td>NaN</td>\n",
              "      <td>NaN</td>\n",
              "      <td>NaN</td>\n",
              "      <td>NaN</td>\n",
              "      <td>NaN</td>\n",
              "      <td>NaN</td>\n",
              "      <td>NaN</td>\n",
              "      <td>NaN</td>\n",
              "      <td>2</td>\n",
              "    </tr>\n",
              "    <tr>\n",
              "      <th>78</th>\n",
              "      <td>1</td>\n",
              "      <td>79</td>\n",
              "      <td>NaN</td>\n",
              "      <td>NaN</td>\n",
              "      <td>NaN</td>\n",
              "      <td>NaN</td>\n",
              "      <td>NaN</td>\n",
              "      <td>NaN</td>\n",
              "      <td>NaN</td>\n",
              "      <td>NaN</td>\n",
              "      <td>NaN</td>\n",
              "      <td>NaN</td>\n",
              "      <td>NaN</td>\n",
              "      <td>NaN</td>\n",
              "      <td>2</td>\n",
              "    </tr>\n",
              "    <tr>\n",
              "      <th>79</th>\n",
              "      <td>1</td>\n",
              "      <td>80</td>\n",
              "      <td>NaN</td>\n",
              "      <td>NaN</td>\n",
              "      <td>NaN</td>\n",
              "      <td>NaN</td>\n",
              "      <td>NaN</td>\n",
              "      <td>NaN</td>\n",
              "      <td>NaN</td>\n",
              "      <td>NaN</td>\n",
              "      <td>NaN</td>\n",
              "      <td>NaN</td>\n",
              "      <td>NaN</td>\n",
              "      <td>NaN</td>\n",
              "      <td>2</td>\n",
              "    </tr>\n",
              "  </tbody>\n",
              "</table>\n",
              "<p>80 rows × 15 columns</p>\n",
              "</div>"
            ],
            "text/plain": [
              "    Tipo   Laranja  Massa (g)  ...  OBSERVAÇÕES    Unnamed: 13  Brix_Cat\n",
              "0       1        1      112.0  ...         Tipo            NaN         2\n",
              "1       1        2      173.0  ...            1           Pera         2\n",
              "2       1        3      106.0  ...          NaN            NaN         2\n",
              "3       1        4      167.0  ...         Furo  Diâmetro (cm)         2\n",
              "4       1        5       94.0  ...            1            5.5         2\n",
              "..    ...      ...        ...  ...          ...            ...       ...\n",
              "75      1       76        NaN  ...          NaN            NaN         2\n",
              "76      1       77        NaN  ...          NaN            NaN         2\n",
              "77      1       78        NaN  ...          NaN            NaN         2\n",
              "78      1       79        NaN  ...          NaN            NaN         2\n",
              "79      1       80        NaN  ...          NaN            NaN         2\n",
              "\n",
              "[80 rows x 15 columns]"
            ]
          },
          "metadata": {
            "tags": []
          },
          "execution_count": 9
        }
      ]
    },
    {
      "cell_type": "code",
      "metadata": {
        "id": "12KpCP6Q0kJ_",
        "colab": {
          "base_uri": "https://localhost:8080/"
        },
        "outputId": "3d3f2edf-9b46-4648-c971-b4167f75c5fc"
      },
      "source": [
        "pH = np.array(df['Ph do suco'])\n",
        "Y = []\n",
        "for xx in pH:\n",
        "  if(xx < 3.932500):\n",
        "    Y.append(0)\n",
        "  elif(xx < 4.040000):\n",
        "    Y.append(1)\n",
        "  else:\n",
        "    Y.append(2)\n",
        "\n",
        "print(Y)"
      ],
      "execution_count": null,
      "outputs": [
        {
          "output_type": "stream",
          "text": [
            "[0, 0, 2, 1, 2, 0, 2, 2, 1, 1, 2, 1, 2, 2, 2, 2, 2, 2, 2, 2, 2, 1, 2, 2, 0, 0, 2, 1, 0, 2, 0, 1, 2, 0, 0, 1, 0, 0, 0, 0, 2, 0, 1, 1, 1, 2, 2, 2, 2, 2, 2, 0, 1, 2, 2, 2, 2, 2, 2, 2, 2, 2, 2, 2, 2, 2, 2, 2, 2, 2, 2, 2, 2, 2, 2, 2, 2, 2, 2, 2]\n"
          ],
          "name": "stdout"
        }
      ]
    },
    {
      "cell_type": "code",
      "metadata": {
        "id": "ZkxPRDMh1GM-"
      },
      "source": [
        "df['pH_Cat']=Y"
      ],
      "execution_count": null,
      "outputs": []
    },
    {
      "cell_type": "code",
      "metadata": {
        "id": "xQ5vmvtH1QNy",
        "colab": {
          "base_uri": "https://localhost:8080/",
          "height": 17
        },
        "outputId": "e223fef8-0206-4626-a9af-4615fa0de0d3"
      },
      "source": [
        "Arq = \"output.xlsx\"\n",
        "df.to_excel(Arq)\n",
        "files.download(Arq)"
      ],
      "execution_count": null,
      "outputs": [
        {
          "output_type": "display_data",
          "data": {
            "application/javascript": [
              "\n",
              "    async function download(id, filename, size) {\n",
              "      if (!google.colab.kernel.accessAllowed) {\n",
              "        return;\n",
              "      }\n",
              "      const div = document.createElement('div');\n",
              "      const label = document.createElement('label');\n",
              "      label.textContent = `Downloading \"${filename}\": `;\n",
              "      div.appendChild(label);\n",
              "      const progress = document.createElement('progress');\n",
              "      progress.max = size;\n",
              "      div.appendChild(progress);\n",
              "      document.body.appendChild(div);\n",
              "\n",
              "      const buffers = [];\n",
              "      let downloaded = 0;\n",
              "\n",
              "      const channel = await google.colab.kernel.comms.open(id);\n",
              "      // Send a message to notify the kernel that we're ready.\n",
              "      channel.send({})\n",
              "\n",
              "      for await (const message of channel.messages) {\n",
              "        // Send a message to notify the kernel that we're ready.\n",
              "        channel.send({})\n",
              "        if (message.buffers) {\n",
              "          for (const buffer of message.buffers) {\n",
              "            buffers.push(buffer);\n",
              "            downloaded += buffer.byteLength;\n",
              "            progress.value = downloaded;\n",
              "          }\n",
              "        }\n",
              "      }\n",
              "      const blob = new Blob(buffers, {type: 'application/binary'});\n",
              "      const a = document.createElement('a');\n",
              "      a.href = window.URL.createObjectURL(blob);\n",
              "      a.download = filename;\n",
              "      div.appendChild(a);\n",
              "      a.click();\n",
              "      div.remove();\n",
              "    }\n",
              "  "
            ],
            "text/plain": [
              "<IPython.core.display.Javascript object>"
            ]
          },
          "metadata": {
            "tags": []
          }
        },
        {
          "output_type": "display_data",
          "data": {
            "application/javascript": [
              "download(\"download_60bf8e16-d8d8-48ee-bece-563b9e7ca55c\", \"output.xlsx\", 10618)"
            ],
            "text/plain": [
              "<IPython.core.display.Javascript object>"
            ]
          },
          "metadata": {
            "tags": []
          }
        }
      ]
    }
  ]
}