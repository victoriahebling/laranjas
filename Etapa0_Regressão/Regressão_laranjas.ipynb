{
  "nbformat": 4,
  "nbformat_minor": 0,
  "metadata": {
    "colab": {
      "name": "Regressão laranjas.ipynb",
      "provenance": [],
      "include_colab_link": true
    },
    "kernelspec": {
      "name": "python3",
      "display_name": "Python 3"
    },
    "language_info": {
      "name": "python"
    }
  },
  "cells": [
    {
      "cell_type": "markdown",
      "metadata": {
        "id": "view-in-github",
        "colab_type": "text"
      },
      "source": [
        "<a href=\"https://colab.research.google.com/github/victoriahebling/laranjas/blob/main/Etapa0_Regress%C3%A3o/Regress%C3%A3o_laranjas.ipynb\" target=\"_parent\"><img src=\"https://colab.research.google.com/assets/colab-badge.svg\" alt=\"Open In Colab\"/></a>"
      ]
    },
    {
      "cell_type": "code",
      "metadata": {
        "id": "Rpuvd0vY05yL",
        "colab": {
          "base_uri": "https://localhost:8080/",
          "height": 35
        },
        "outputId": "004717f0-f9b1-4619-cc15-1e1aa89616b5"
      },
      "source": [
        "import pandas as pd\n",
        "import numpy as np\n",
        "from google.colab import files\n",
        "from sklearn.neural_network import MLPRegressor \n",
        "from sklearn.model_selection import train_test_split \n",
        "'''vai separar o treino e o teste utilizando o train_test_split'''\n",
        "from sklearn import preprocessing\n",
        "'''dentro do preprocessing vamos usar uma função chamada MaxMinScaler, para fazer a \n",
        "normatização dos dados e a volta da normatização'''\n",
        "from sklearn.metrics import mean_squared_error\n",
        "from sklearn.metrics import r2_score\n",
        "import matplotlib.pyplot as plt\n",
        "''' biblioteca para plotar gráficos'''"
      ],
      "execution_count": null,
      "outputs": [
        {
          "output_type": "execute_result",
          "data": {
            "application/vnd.google.colaboratory.intrinsic+json": {
              "type": "string"
            },
            "text/plain": [
              "' biblioteca para plotar gráficos'"
            ]
          },
          "metadata": {
            "tags": []
          },
          "execution_count": 1
        }
      ]
    },
    {
      "cell_type": "code",
      "metadata": {
        "id": "xyOF1oiKDoCm"
      },
      "source": [
        "#Abrindo o arquivo do excel \n",
        "link = 'https://raw.githubusercontent.com/victoriahebling/ANN/main/laranjas1.csv'\n",
        "df = pd.read_csv(link, delimiter=';')"
      ],
      "execution_count": null,
      "outputs": []
    },
    {
      "cell_type": "code",
      "metadata": {
        "colab": {
          "base_uri": "https://localhost:8080/",
          "height": 142
        },
        "id": "qnnnYm_FFtA8",
        "outputId": "5684d1aa-9f3b-4992-a7d6-c3337151f90f"
      },
      "source": [
        "#testando se abriu corretamente\n",
        "df.head(3)  #mostrar 3 primeiras linhas do arquivo do excel"
      ],
      "execution_count": null,
      "outputs": [
        {
          "output_type": "execute_result",
          "data": {
            "text/html": [
              "<div>\n",
              "<style scoped>\n",
              "    .dataframe tbody tr th:only-of-type {\n",
              "        vertical-align: middle;\n",
              "    }\n",
              "\n",
              "    .dataframe tbody tr th {\n",
              "        vertical-align: top;\n",
              "    }\n",
              "\n",
              "    .dataframe thead th {\n",
              "        text-align: right;\n",
              "    }\n",
              "</style>\n",
              "<table border=\"1\" class=\"dataframe\">\n",
              "  <thead>\n",
              "    <tr style=\"text-align: right;\">\n",
              "      <th></th>\n",
              "      <th>Tipo</th>\n",
              "      <th>Laranja</th>\n",
              "      <th>Massa</th>\n",
              "      <th>Volumesuco</th>\n",
              "      <th>Ph</th>\n",
              "      <th>Temperaturasuco</th>\n",
              "      <th>Brix</th>\n",
              "      <th>comprimento</th>\n",
              "      <th>largura</th>\n",
              "      <th>Furo</th>\n",
              "      <th>Temperaturaambiente</th>\n",
              "    </tr>\n",
              "  </thead>\n",
              "  <tbody>\n",
              "    <tr>\n",
              "      <th>0</th>\n",
              "      <td>1</td>\n",
              "      <td>1</td>\n",
              "      <td>112</td>\n",
              "      <td>46.0</td>\n",
              "      <td>3.90</td>\n",
              "      <td>22.6</td>\n",
              "      <td>11.4</td>\n",
              "      <td>5.74</td>\n",
              "      <td>5.96</td>\n",
              "      <td>3</td>\n",
              "      <td>23</td>\n",
              "    </tr>\n",
              "    <tr>\n",
              "      <th>1</th>\n",
              "      <td>1</td>\n",
              "      <td>2</td>\n",
              "      <td>173</td>\n",
              "      <td>84.0</td>\n",
              "      <td>3.88</td>\n",
              "      <td>22.1</td>\n",
              "      <td>10.2</td>\n",
              "      <td>6.67</td>\n",
              "      <td>6.88</td>\n",
              "      <td>5</td>\n",
              "      <td>23</td>\n",
              "    </tr>\n",
              "    <tr>\n",
              "      <th>2</th>\n",
              "      <td>1</td>\n",
              "      <td>3</td>\n",
              "      <td>106</td>\n",
              "      <td>50.0</td>\n",
              "      <td>4.16</td>\n",
              "      <td>22.4</td>\n",
              "      <td>10.1</td>\n",
              "      <td>6.04</td>\n",
              "      <td>5.71</td>\n",
              "      <td>2</td>\n",
              "      <td>23</td>\n",
              "    </tr>\n",
              "  </tbody>\n",
              "</table>\n",
              "</div>"
            ],
            "text/plain": [
              "   Tipo   Laranja  Massa   ...  largura  Furo  Temperaturaambiente \n",
              "0      1        1     112  ...     5.96     3                    23\n",
              "1      1        2     173  ...     6.88     5                    23\n",
              "2      1        3     106  ...     5.71     2                    23\n",
              "\n",
              "[3 rows x 11 columns]"
            ]
          },
          "metadata": {
            "tags": []
          },
          "execution_count": 3
        }
      ]
    },
    {
      "cell_type": "code",
      "metadata": {
        "id": "boomifiR3Ky7"
      },
      "source": [
        "Index = [3, 7, 8, 9]\n",
        "dfselect=[]\n",
        "dfselect=df.iloc[1:,Index].copy()"
      ],
      "execution_count": null,
      "outputs": []
    },
    {
      "cell_type": "code",
      "metadata": {
        "colab": {
          "base_uri": "https://localhost:8080/",
          "height": 142
        },
        "id": "AlxENDzb3ixu",
        "outputId": "05aeae98-5f8c-4de4-ccf3-b381efc82337"
      },
      "source": [
        "dfselect.head(3)"
      ],
      "execution_count": null,
      "outputs": [
        {
          "output_type": "execute_result",
          "data": {
            "text/html": [
              "<div>\n",
              "<style scoped>\n",
              "    .dataframe tbody tr th:only-of-type {\n",
              "        vertical-align: middle;\n",
              "    }\n",
              "\n",
              "    .dataframe tbody tr th {\n",
              "        vertical-align: top;\n",
              "    }\n",
              "\n",
              "    .dataframe thead th {\n",
              "        text-align: right;\n",
              "    }\n",
              "</style>\n",
              "<table border=\"1\" class=\"dataframe\">\n",
              "  <thead>\n",
              "    <tr style=\"text-align: right;\">\n",
              "      <th></th>\n",
              "      <th>Volumesuco</th>\n",
              "      <th>comprimento</th>\n",
              "      <th>largura</th>\n",
              "      <th>Furo</th>\n",
              "    </tr>\n",
              "  </thead>\n",
              "  <tbody>\n",
              "    <tr>\n",
              "      <th>1</th>\n",
              "      <td>84.0</td>\n",
              "      <td>6.67</td>\n",
              "      <td>6.88</td>\n",
              "      <td>5</td>\n",
              "    </tr>\n",
              "    <tr>\n",
              "      <th>2</th>\n",
              "      <td>50.0</td>\n",
              "      <td>6.04</td>\n",
              "      <td>5.71</td>\n",
              "      <td>2</td>\n",
              "    </tr>\n",
              "    <tr>\n",
              "      <th>3</th>\n",
              "      <td>90.0</td>\n",
              "      <td>6.71</td>\n",
              "      <td>6.67</td>\n",
              "      <td>4</td>\n",
              "    </tr>\n",
              "  </tbody>\n",
              "</table>\n",
              "</div>"
            ],
            "text/plain": [
              "   Volumesuco  comprimento  largura  Furo\n",
              "1        84.0         6.67     6.88     5\n",
              "2        50.0         6.04     5.71     2\n",
              "3        90.0         6.71     6.67     4"
            ]
          },
          "metadata": {
            "tags": []
          },
          "execution_count": 5
        }
      ]
    },
    {
      "cell_type": "code",
      "metadata": {
        "id": "FqUWZjQkm1nX"
      },
      "source": [
        "# separa os dados em normatizados e originais\n",
        "# X = dfselect[['comprimento','largura', 'Furo']]\n",
        "# X = dfselect[['comprimento','largura']]\n",
        "# X = dfselect[['Furo']]\n",
        "X = dfselect[['comprimento','Furo']]\n",
        "y = np.array(dfselect[['Volumesuco']]).reshape(-1,1)"
      ],
      "execution_count": null,
      "outputs": []
    },
    {
      "cell_type": "code",
      "metadata": {
        "id": "sFrRy3zbnRQy"
      },
      "source": [
        "X_train, X_test, y_train, y_test = train_test_split(X,y,test_size=0.20, shuffle=True, random_state=42)"
      ],
      "execution_count": null,
      "outputs": []
    },
    {
      "cell_type": "code",
      "metadata": {
        "id": "yDdlajzkneG3"
      },
      "source": [
        "scaler_X = preprocessing.MinMaxScaler((-1,1)).fit(X) \n",
        "#como se estivesse gerando aquela função que escalona para X e para Y\n",
        "scaler_Y = preprocessing.MinMaxScaler((-1,1)).fit(y)"
      ],
      "execution_count": null,
      "outputs": []
    },
    {
      "cell_type": "code",
      "metadata": {
        "id": "Hauiyluho6i8"
      },
      "source": [
        "X_train = scaler_X.transform(X_train)\n",
        "X_test = scaler_X.transform(X_test)\n",
        "y_train = scaler_Y.transform(y_train)\n",
        "y_test = scaler_Y.transform(y_test)"
      ],
      "execution_count": null,
      "outputs": []
    },
    {
      "cell_type": "code",
      "metadata": {
        "colab": {
          "base_uri": "https://localhost:8080/",
          "height": 154
        },
        "id": "gLFG2Q3KqIlq",
        "outputId": "52c2c4ca-4cd5-4fcd-fc4a-24e273cc4a62"
      },
      "source": [
        "#analisando qual a quantidade de neuronios melhor se adequa para a rede neural\n",
        "'''HN1 =[] #camada oculta1\n",
        "HN2 = [] #camalda oculta2\n",
        "train_R2 =[] #r2 para treino\n",
        "test_R2 = [] #r2 para teste\n",
        "for i in range(3,12):\n",
        "  for j in range(3,12):\n",
        "    ####\n",
        "    # define a rede neural \n",
        "    model = MLPRegressor(solver='lbfgs',activation='tanh',alpha=1e-5,hidden_layer_sizes=(i,j),\n",
        "                         random_state=1,max_iter=500)\n",
        "    \n",
        "    # treina a rede neural\n",
        "    model.fit(X_train, y_train)\n",
        "\n",
        "    # usa a rede neural treina em calculos para treino e teste\n",
        "    y_calc_train=model.predict(X_train)\n",
        "    y_calc_test=model.predict(X_test)\n",
        "    \n",
        "    # transforma dos dados calculados na forma original (nao normatizado)\n",
        "    y_obs_train=scaler_Y.inverse_transform(np.array(y_train).reshape(-1,1))\n",
        "    y_obs_test=scaler_Y.inverse_transform(np.array(y_test).reshape(-1,1))\n",
        "    y_calc_train=scaler_Y.inverse_transform(y_calc_train.reshape(-1,1))\n",
        "    y_calc_test=scaler_Y.inverse_transform(y_calc_test.reshape(-1,1))\n",
        "    mse=mean_squared_error(y_obs_test,y_calc_test)\n",
        "    R2_teste=r2_score(y_obs_test,y_calc_test)\n",
        "    R2_treino=r2_score(y_obs_train,y_calc_train)\n",
        "    #print(\"i,j=\",i,j,\"R^2 treino=\",R2_treino,\"R^2 teste=\",R2_teste)\n",
        "    HN1.append(i)\n",
        "    HN2.append(j)\n",
        "    train_R2.append(R2_treino)\n",
        "    test_R2.append(R2_teste)'''"
      ],
      "execution_count": null,
      "outputs": [
        {
          "output_type": "execute_result",
          "data": {
            "application/vnd.google.colaboratory.intrinsic+json": {
              "type": "string"
            },
            "text/plain": [
              "'HN1 =[] #camada oculta1\\nHN2 = [] #camalda oculta2\\ntrain_R2 =[] #r2 para treino\\ntest_R2 = [] #r2 para teste\\nfor i in range(3,12):\\n  for j in range(3,12):\\n    ####\\n    # define a rede neural \\n    model = MLPRegressor(solver=\\'lbfgs\\',activation=\\'tanh\\',alpha=1e-5,hidden_layer_sizes=(i,j),\\n                         random_state=1,max_iter=500)\\n    \\n    # treina a rede neural\\n    model.fit(X_train, y_train)\\n\\n    # usa a rede neural treina em calculos para treino e teste\\n    y_calc_train=model.predict(X_train)\\n    y_calc_test=model.predict(X_test)\\n    \\n    # transforma dos dados calculados na forma original (nao normatizado)\\n    y_obs_train=scaler_Y.inverse_transform(np.array(y_train).reshape(-1,1))\\n    y_obs_test=scaler_Y.inverse_transform(np.array(y_test).reshape(-1,1))\\n    y_calc_train=scaler_Y.inverse_transform(y_calc_train.reshape(-1,1))\\n    y_calc_test=scaler_Y.inverse_transform(y_calc_test.reshape(-1,1))\\n    mse=mean_squared_error(y_obs_test,y_calc_test)\\n    R2_teste=r2_score(y_obs_test,y_calc_test)\\n    R2_treino=r2_score(y_obs_train,y_calc_train)\\n    #print(\"i,j=\",i,j,\"R^2 treino=\",R2_treino,\"R^2 teste=\",R2_teste)\\n    HN1.append(i)\\n    HN2.append(j)\\n    train_R2.append(R2_treino)\\n    test_R2.append(R2_teste)'"
            ]
          },
          "metadata": {
            "tags": []
          },
          "execution_count": 10
        }
      ]
    },
    {
      "cell_type": "code",
      "metadata": {
        "colab": {
          "base_uri": "https://localhost:8080/",
          "height": 52
        },
        "id": "l317MRiNqwaY",
        "outputId": "7f6f0ec1-de30-407d-ea9f-1e864b0ffddf"
      },
      "source": [
        "#analisando qual a quantidade de neuronios melhor se adequa para a rede neural\n",
        "'''df = pd.DataFrame({'camada 1':HN1,'camada 2':HN2,'R2 treino':train_R2,'R2 teste':test_R2})\n",
        "#print(df) #assim n vai mostrar todas as linhas\n",
        "\n",
        "pd.set_option('display.max_rows', None)\n",
        "print(df)'''"
      ],
      "execution_count": null,
      "outputs": [
        {
          "output_type": "execute_result",
          "data": {
            "application/vnd.google.colaboratory.intrinsic+json": {
              "type": "string"
            },
            "text/plain": [
              "\"df = pd.DataFrame({'camada 1':HN1,'camada 2':HN2,'R2 treino':train_R2,'R2 teste':test_R2})\\n#print(df) #assim n vai mostrar todas as linhas\\n\\npd.set_option('display.max_rows', None)\\nprint(df)\""
            ]
          },
          "metadata": {
            "tags": []
          },
          "execution_count": 11
        }
      ]
    },
    {
      "cell_type": "code",
      "metadata": {
        "id": "KIYnHlNXsQIl"
      },
      "source": [
        "#escolheremos portanto a interação 9, ou seja: 4 neuronios na primeira camada oculta e 3 na segunda camada oculta."
      ],
      "execution_count": null,
      "outputs": []
    },
    {
      "cell_type": "code",
      "metadata": {
        "colab": {
          "base_uri": "https://localhost:8080/"
        },
        "id": "6nLgmKwthqME",
        "outputId": "9c3b8406-ac21-4973-8fc4-5ddfaf94f7b2"
      },
      "source": [
        "# define a rede neural\n",
        "model = MLPRegressor(solver ='lbfgs', activation ='tanh', alpha=1e-5, hidden_layer_sizes=(4,3), random_state=1)\n",
        "\n",
        "# treina a rede neural\n",
        "model.fit(X_train, y_train)\n",
        "\n",
        "# usa a rede neural traina em cálculos para treino e teste\n",
        "y_calc_train = model.predict(X_train)\n",
        "y_calc_test = model.predict(X_test)\n",
        "\n",
        "# transforma dos dados calculados na forma original (nao normatizado)\n",
        "y_obs_train=scaler_Y.inverse_transform(np.array(y_train).reshape(-1,1))\n",
        "y_obs_test=scaler_Y.inverse_transform(np.array(y_test).reshape(-1,1))\n",
        "y_calc_train=scaler_Y.inverse_transform(y_calc_train.reshape(-1,1))\n",
        "y_calc_test=scaler_Y.inverse_transform(y_calc_test.reshape(-1,1))"
      ],
      "execution_count": null,
      "outputs": [
        {
          "output_type": "stream",
          "text": [
            "/usr/local/lib/python3.7/dist-packages/sklearn/neural_network/_multilayer_perceptron.py:1342: DataConversionWarning: A column-vector y was passed when a 1d array was expected. Please change the shape of y to (n_samples, ), for example using ravel().\n",
            "  y = column_or_1d(y, warn=True)\n",
            "/usr/local/lib/python3.7/dist-packages/sklearn/neural_network/_multilayer_perceptron.py:470: ConvergenceWarning: lbfgs failed to converge (status=1):\n",
            "STOP: TOTAL NO. of ITERATIONS REACHED LIMIT.\n",
            "\n",
            "Increase the number of iterations (max_iter) or scale the data as shown in:\n",
            "    https://scikit-learn.org/stable/modules/preprocessing.html\n",
            "  self.n_iter_ = _check_optimize_result(\"lbfgs\", opt_res, self.max_iter)\n"
          ],
          "name": "stderr"
        }
      ]
    },
    {
      "cell_type": "code",
      "metadata": {
        "colab": {
          "base_uri": "https://localhost:8080/",
          "height": 283
        },
        "id": "-0n6m_-_smTe",
        "outputId": "1a58562a-45ac-4678-9f32-b8e1dba53ac6"
      },
      "source": [
        "# expressando os dados em gráfico\n",
        "fig = plt.figure()\n",
        "ax1 = fig.add_subplot(111)\n",
        "ax1.scatter(y_obs_test,y_calc_test, s=10, c='b', marker=\"s\", label='teste')\n",
        "ax1.scatter(y_obs_train,y_calc_train, s=10, c='r', marker=\"o\", label='treino')\n",
        "plt.legend(loc='upper left')\n",
        "plt.xlim([30,140])\n",
        "plt.ylim([30,140])\n",
        "plt.ylabel('Volume suco, Calc')\n",
        "plt.xlabel('Volume suco, Obs')\n",
        "plt.show()"
      ],
      "execution_count": null,
      "outputs": [
        {
          "output_type": "display_data",
          "data": {
            "image/png": "[encoded data removed]",
            "text/plain": [
              "<Figure size 432x288 with 1 Axes>"
            ]
          },
          "metadata": {
            "tags": [],
            "needs_background": "light"
          }
        }
      ]
    },
    {
      "cell_type": "code",
      "metadata": {
        "colab": {
          "base_uri": "https://localhost:8080/"
        },
        "id": "InQoOKwJvBD6",
        "outputId": "c7210c75-c058-4058-c660-e0cf0b6cb07d"
      },
      "source": [
        "mse=mean_squared_error(y_obs_train,y_calc_train)\n",
        "print(\"MSE treino=\",mse)\n",
        "R2=r2_score(y_obs_train,y_calc_train)\n",
        "print(\"R^2 treino=\",R2)"
      ],
      "execution_count": null,
      "outputs": [
        {
          "output_type": "stream",
          "text": [
            "MSE treino= 85.46327309292636\n",
            "R^2 treino= 0.7937772400265171\n"
          ],
          "name": "stdout"
        }
      ]
    },
    {
      "cell_type": "code",
      "metadata": {
        "colab": {
          "base_uri": "https://localhost:8080/"
        },
        "id": "rbQ-8PhWbNQF",
        "outputId": "c1791803-0396-4a6e-d829-35b78155223c"
      },
      "source": [
        "mse=mean_squared_error(y_obs_test,y_calc_test)\n",
        "print(\"MSE teste=\",mse)\n",
        "R2=r2_score(y_obs_test,y_calc_test)\n",
        "print(\"R^2 teste=\",R2)"
      ],
      "execution_count": null,
      "outputs": [
        {
          "output_type": "stream",
          "text": [
            "MSE teste= 387.55730581023545\n",
            "R^2 teste= -0.10502637487474087\n"
          ],
          "name": "stdout"
        }
      ]
    }
  ]
}