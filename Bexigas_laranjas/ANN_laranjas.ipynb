{
  "nbformat": 4,
  "nbformat_minor": 0,
  "metadata": {
    "colab": {
      "name": "ANN_laranjas.ipynb",
      "provenance": [],
      "collapsed_sections": [],
      "include_colab_link": true
    },
    "kernelspec": {
      "name": "python3",
      "display_name": "Python 3"
    },
    "language_info": {
      "name": "python"
    }
  },
  "cells": [
    {
      "cell_type": "markdown",
      "metadata": {
        "id": "view-in-github",
        "colab_type": "text"
      },
      "source": [
        "<a href=\"https://colab.research.google.com/github/victoriahebling/laranjas/blob/main/Bexigas_laranjas/ANN_laranjas.ipynb\" target=\"_parent\"><img src=\"https://colab.research.google.com/assets/colab-badge.svg\" alt=\"Open In Colab\"/></a>"
      ]
    },
    {
      "cell_type": "code",
      "metadata": {
        "id": "hW2vxhnRvPVz"
      },
      "source": [
        "from matplotlib import pyplot as plt\n",
        "from PIL import Image\n",
        "import numpy as np\n",
        "import pandas as pd\n",
        "import os \n",
        "import cv2\n",
        "import re, random\n",
        "from skimage import feature\n",
        "from sklearn.neural_network import MLPClassifier\n",
        "from sklearn import preprocessing\n",
        "from sklearn.model_selection import train_test_split\n",
        "from sklearn.metrics import classification_report\n",
        "import random\n",
        "from sklearn.neural_network import MLPRegressor\n",
        "from sklearn.model_selection import train_test_split\n",
        "from sklearn import preprocessing\n",
        "from sklearn.metrics import mean_squared_error\n",
        "from sklearn.metrics import r2_score "
      ],
      "execution_count": 138,
      "outputs": []
    },
    {
      "cell_type": "code",
      "metadata": {
        "colab": {
          "base_uri": "https://localhost:8080/"
        },
        "id": "TwhExglZvRuQ",
        "outputId": "ada545f5-e6c9-4ec7-c69a-ab5ef7884479"
      },
      "source": [
        "\n",
        "#link: https://drive.google.com/file/d/1tqFHN01uA3_MlLcmJvAC-2tnd8p8byDW/view?usp=sharing\n",
        "!gdown --id 1tqFHN01uA3_MlLcmJvAC-2tnd8p8byDW\n"
      ],
      "execution_count": 139,
      "outputs": [
        {
          "output_type": "stream",
          "name": "stdout",
          "text": [
            "Downloading...\n",
            "From: https://drive.google.com/uc?id=1tqFHN01uA3_MlLcmJvAC-2tnd8p8byDW\n",
            "To: /content/laranjas2.zip\n",
            "100% 1.10G/1.10G [00:08<00:00, 130MB/s]\n"
          ]
        }
      ]
    },
    {
      "cell_type": "code",
      "metadata": {
        "id": "jGJnpGo4viwU"
      },
      "source": [
        "import zipfile\n",
        "file_name = zipfile.ZipFile('laranjas2.zip', 'r')\n",
        "file_name.extractall()"
      ],
      "execution_count": 140,
      "outputs": []
    },
    {
      "cell_type": "code",
      "metadata": {
        "id": "yUVqk2GGvnCB"
      },
      "source": [
        "FILE='laranjas2.zip'\n",
        "img_name=[]\n",
        "x_original = [] \n",
        "\n",
        "ref ='png'\n",
        "data_file ='xlsx'\n",
        "\n",
        "with zipfile.ZipFile(FILE, \"r\") as f:\n",
        "    for name in f.namelist():\n",
        "      if(name[-3:]==ref):\n",
        "        img_name.append(name)\n",
        "        #x_original.append(cv2.resize(cv2.imread(name),(60,80)))\n",
        "        x_original.append(cv2.resize(cv2.imread(name,0),(60,80)))\n",
        "      else:\n",
        "        if(name[-4:] == data_file):\n",
        "          df =pd.read_excel(name)\n"
      ],
      "execution_count": 141,
      "outputs": []
    },
    {
      "cell_type": "code",
      "metadata": {
        "id": "0MklRIT77qD2"
      },
      "source": [
        "name_down=[]  # down representa as frutas deitadas\n",
        "original_down = [] \n",
        "name_up=[] # down representa as frutas em pe\n",
        "original_up= [] "
      ],
      "execution_count": 142,
      "outputs": []
    },
    {
      "cell_type": "code",
      "metadata": {
        "id": "33_sR26h7ldr"
      },
      "source": [
        "k = 0\n",
        "for name in img_name:\n",
        "  if(name[-5]=='a'):\n",
        "    name_up.append(name)\n",
        "    original_up.append(x_original[k])\n",
        "  else:\n",
        "    name_down.append(name)\n",
        "    original_down.append(x_original[k])\n",
        "  k = k +1\n"
      ],
      "execution_count": 143,
      "outputs": []
    },
    {
      "cell_type": "code",
      "metadata": {
        "id": "D-nQQ2PVGXM_"
      },
      "source": [
        "def get_dimension(img):\n",
        "  im = img\n",
        "  # Compute the Canny filter for two values of sigma\n",
        "  edges1 = feature.canny(im)\n",
        "  edges2 = feature.canny(im, sigma=3)\n",
        "  nrows,ncols =edges2.shape\n",
        "  Foto = np.ones((nrows,ncols))*255\n",
        "  for i in range(nrows):\n",
        "    for j in range(ncols):\n",
        "      if edges2[i,j] == True:\n",
        "        Foto[i,j]=0\n",
        "  Foto = Foto.astype(int)\n",
        "# calculo do raio horizontal\n",
        "  Quadrado = []\n",
        "  Raio = []\n",
        "  for i in range(nrows):\n",
        "    values = np.zeros(4)\n",
        "    k = -1\n",
        "    for j in range(1,ncols):\n",
        "      if(Foto[i,j-1]==255 and Foto[i,j]==0):\n",
        "        if(k<3):\n",
        "          k = k+1\n",
        "          values[k]=j\n",
        "    L = values[3] - values[0]\n",
        "    d = values[2] - values[1]\n",
        "    Quadrado.append(L)\n",
        "    Raio.append(d)\n",
        "  L = np.array(Quadrado).max()\n",
        "  Raio = np.array(Raio).max()\n",
        "  medida = Raio/L*14.5\n",
        "  return medida,Foto\n"
      ],
      "execution_count": 144,
      "outputs": []
    },
    {
      "cell_type": "code",
      "metadata": {
        "id": "OTv8A0FLQALl"
      },
      "source": [
        "def area_fruta(img):\n",
        "  (rows, cols) =img.shape\n",
        "\n",
        "  img_fruit = np.zeros(img.shape,np.uint8) \n",
        "\n",
        "  for i in range(rows):\n",
        "    for j in range(cols):\n",
        "      if(img[i,j]>100):\n",
        "        img[i,j]=0\n",
        "\n",
        "\n",
        "  for i in range(rows):\n",
        "    for j in range(cols):\n",
        "      if(img[i,j]>0):\n",
        "        img[i,j]=255\n",
        "        img_fruit[i,j]=255\n",
        "\n",
        "  xi=0;xf=0;yi=0;yf=0;\n",
        "  jref=int(cols/2)\n",
        "  iref=int(rows/2)\n",
        "\n",
        "  for i in range(rows):\n",
        "    j = jref\n",
        "    if(img[i,j]>0):\n",
        "      if(xi==0):\n",
        "        xi = i\n",
        "      else:\n",
        "        xf = i\n",
        "  for j in range(cols):\n",
        "    i = iref\n",
        "    if(img[i,j]>0):\n",
        "      if(yi==0):\n",
        "        yi = j\n",
        "      else:\n",
        "        yf = j\n",
        "\n",
        "  for i in range(rows):\n",
        "    for j in range(cols):\n",
        "      if(i > xi and i < xf and j>yi and j < yf):\n",
        "        img[i,j]=255\n",
        "\n",
        "    area = 1-np.sum(img_fruit.ravel())/np.sum(img.ravel())\n",
        "\n",
        "  return area"
      ],
      "execution_count": 145,
      "outputs": []
    },
    {
      "cell_type": "code",
      "metadata": {
        "colab": {
          "base_uri": "https://localhost:8080/"
        },
        "id": "4CpkApSG-H8e",
        "outputId": "7c5d8261-29f4-4941-aad9-afb8124e76ef"
      },
      "source": [
        "np.array(original_down).shape"
      ],
      "execution_count": 146,
      "outputs": [
        {
          "output_type": "execute_result",
          "data": {
            "text/plain": [
              "(100, 80, 60)"
            ]
          },
          "metadata": {},
          "execution_count": 146
        }
      ]
    },
    {
      "cell_type": "code",
      "metadata": {
        "id": "vf2wrTewQDVX"
      },
      "source": [
        ""
      ],
      "execution_count": 146,
      "outputs": []
    },
    {
      "cell_type": "code",
      "metadata": {
        "id": "7qgS1SiEhwQ2"
      },
      "source": [
        "(num,l,w)=np.array(original_down).shape"
      ],
      "execution_count": 147,
      "outputs": []
    },
    {
      "cell_type": "code",
      "metadata": {
        "id": "1kNAz7DNiLvK"
      },
      "source": [
        "dimensao =[]\n",
        "for i in range(num):\n",
        "  lista =[]\n",
        "  Ind = i\n",
        "  img= original_up[Ind]\n",
        "  medida1,foto = get_dimension(img)\n",
        "  lista.append(medida1)\n",
        "  img = img.transpose()\n",
        "  medida2,foto = get_dimension(img)\n",
        "  lista.append(medida2)\n",
        "  img2= original_down[Ind]\n",
        "  medida3,foto = get_dimension(img2)\n",
        "  lista.append(medida3)\n",
        "  img2 = img2.transpose()\n",
        "  medida4,foto = get_dimension(img2)\n",
        "  lista.append(medida4)\n",
        "  dimensao.append(lista)\n"
      ],
      "execution_count": 148,
      "outputs": []
    },
    {
      "cell_type": "code",
      "metadata": {
        "id": "qYne_qV_QNvN"
      },
      "source": [
        "area_up =[]\n",
        "area_down =[]\n",
        "for i in range(num):\n",
        "  lista =[]\n",
        "  Ind = i\n",
        "  img= original_up[Ind]\n",
        "  area = area_fruta(img)\n",
        "  area_up.append(area)\n",
        "  img= original_down[Ind]\n",
        "  area = area_fruta(img)\n",
        "  area_down.append(area)"
      ],
      "execution_count": 149,
      "outputs": []
    },
    {
      "cell_type": "code",
      "metadata": {
        "id": "xBwn1C7gQURt",
        "colab": {
          "base_uri": "https://localhost:8080/"
        },
        "outputId": "d0f025df-55b4-477d-8774-4269918cda70"
      },
      "source": [
        "print(area_up)"
      ],
      "execution_count": 150,
      "outputs": [
        {
          "output_type": "stream",
          "name": "stdout",
          "text": [
            "[0.18342749529190205, 0.18333333333333335, 0.1645427286356822, 0.19939462731744229, 0.14736042537030003, 0.1845979614949037, 0.16314996232102486, 0.18460955269143287, 0.18962906888720665, 0.18597560975609762, 0.18704484476811034, 0.17095310136157338, 0.1796610169491526, 0.15149166989538942, 0.17938066465256797, 0.17309896828429494, 0.20190839694656493, 0.16085489313835766, 0.1797795515013303, 0.19380430676237248, 0.19506726457399104, 0.21926536731634183, 0.19528875379939215, 0.19153758972421608, 0.21595184349134688, 0.17524602573807724, 0.18209067066316975, 0.2058047493403694, 0.1532288880397401, 0.17820658342792284, 0.1573506891271057, 0.17890772128060262, 0.21020793950850658, 0.18577374195989405, 0.17850432168357755, 0.16196918451709885, 0.16405082212257105, 0.1927574500188608, 0.15542857142857147, 0.15462373642830396, 0.19045771916214116, 0.18783679753656657, 0.1822306238185255, 0.1664787673806839, 0.1656580937972768, 0.14704747201852564, 0.1823015571591341, 0.18311981914091935, 0.1670454545454545, 0.15893536121673002, 0.15719696969696972, 0.16825639069057607, 0.17502829121086383, 0.17508545385491836, 0.15731195112638408, 0.17985611510791366, 0.16984732824427484, 0.19173363949483357, 0.1758490566037736, 0.16679245283018873, 0.18968761761385022, 0.18171471927162364, 0.17905405405405406, 0.17188088955898984, 0.13887843432442604, 0.15081723625557208, 0.16384403308389128, 0.1445371775417299, 0.20271288620949512, 0.20045385779122538, 0.1753003003003003, 0.1698400609291698, 0.1934265205893464, 0.18467956010618125, 0.19469357249626307, 0.18877166541070078, 0.2353386303443057, 0.17990214527662773, 0.17506532288167231, 0.18665667166416788, 0.16289592760180993, 0.17761922643634998, 0.15966704502459328, 0.17557830868411073, 0.1753197893152746, 0.17288651942117284, 0.1879271070615034, 0.1885031728256812, 0.15017064846416384, 0.17756653992395433, 0.16004540295119185, 0.17121212121212126, 0.15393300715092206, 0.16060606060606064, 0.1959383226776984, 0.1672316384180791, 0.197209653092006, 0.20937151357381922, 0.20030291556228697, 0.17627245508982037]\n"
          ]
        }
      ]
    },
    {
      "cell_type": "code",
      "metadata": {
        "id": "yEF7ZBgvQVHb",
        "colab": {
          "base_uri": "https://localhost:8080/"
        },
        "outputId": "342ef14e-750d-4786-cb54-aa298f39e43b"
      },
      "source": [
        "print(area_down)"
      ],
      "execution_count": 151,
      "outputs": [
        {
          "output_type": "stream",
          "name": "stdout",
          "text": [
            "[0.19419306184012064, 0.20463173880030372, 0.17516879219804948, 0.21928817451205507, 0.15305734903152302, 0.1969924812030075, 0.1879271070615034, 0.21044663133989405, 0.20204313280363229, 0.20839636913767023, 0.21054672353625437, 0.18367346938775508, 0.21030372933487118, 0.20847457627118648, 0.19871794871794868, 0.19358490566037734, 0.215228043724086, 0.17334331710969675, 0.1894054878048781, 0.20620506999621646, 0.2092675635276532, 0.23358490566037737, 0.218595825426945, 0.2108046845485455, 0.2269823374671176, 0.18631897203325776, 0.20090463626083677, 0.23024574669187148, 0.16488140780413163, 0.18205904617713853, 0.1732616212063004, 0.1902604756511891, 0.22332317073170727, 0.19885057471264367, 0.1840796019900498, 0.18707738542449281, 0.18164794007490637, 0.20581570996978849, 0.16660355925785686, 0.17199849454271732, 0.20219198790627357, 0.1973634651600753, 0.18583739228175344, 0.18071833648393199, 0.18216463414634143, 0.15674453654860587, 0.1923509561304837, 0.200376647834275, 0.17122247532270307, 0.1752380952380952, 0.18307162006893907, 0.17306960821605177, 0.1945701357466063, 0.1827546737886303, 0.16000000000000003, 0.19947109935776353, 0.17575757575757578, 0.2069097888675624, 0.18233295583238962, 0.17931294828237065, 0.19864048338368578, 0.19811320754716977, 0.19178598342125097, 0.18759455370650524, 0.1657229143072858, 0.16017964071856283, 0.17520723436322527, 0.13987077156974537, 0.2174076865109269, 0.21054628224582705, 0.18315709969788518, 0.1772247360482655, 0.20389805097451275, 0.20622863653627044, 0.21024868123587037, 0.20238095238095233, 0.23522770041400076, 0.20286576168929105, 0.1905298759864712, 0.19448640483383683, 0.17063042657606642, 0.19197600299962503, 0.17181612660135648, 0.17830045523520488, 0.1830827067669173, 0.18019047619047623, 0.20007535795026377, 0.1975169300225733, 0.17227049489988666, 0.17877519969570177, 0.18024596464258258, 0.18078237751614123, 0.17102768297307547, 0.1688163884673748, 0.20675422138836774, 0.18452830188679248, 0.20806633999246138, 0.21768452603971522, 0.21299093655589119, 0.17140718562874246]\n"
          ]
        }
      ]
    },
    {
      "cell_type": "code",
      "metadata": {
        "id": "x3FyKZ7dsFAP"
      },
      "source": [
        "def elipsoide(valores):\n",
        "  dif = np.zeros(4)\n",
        "  k = 0\n",
        "  ref =1E99\n",
        "  for i in range(2):\n",
        "    for j in range(2):\n",
        "      dif[k] = abs(valores[i]-valores[j+2])\n",
        "      if(ref > dif[k]):\n",
        "        ref = dif[k]\n",
        "        ind1=i # 0,1\n",
        "        ind2=j+2 # 2,3\n",
        "      k = k+1\n",
        "  b = (valores[ind1]+valores[ind2])/2\n",
        "  if(ind1 ==0):\n",
        "    a = valores[1]\n",
        "  else:\n",
        "    a = valores[0]\n",
        "  if(ind2 ==2):\n",
        "    c = valores[3]\n",
        "  else:\n",
        "    c = valores[2]\n",
        "  Vol = 4/3*np.pi*a*b*c\n",
        "\n",
        "  return Vol  \n",
        "  \n",
        "\n",
        "  "
      ],
      "execution_count": 152,
      "outputs": []
    },
    {
      "cell_type": "code",
      "metadata": {
        "id": "e1seB9bPoX-6"
      },
      "source": [
        "Volume = []\n",
        "X =[]\n",
        "for i in range(num):\n",
        "  valores = dimensao[i]\n",
        "  X.append(valores)\n",
        "  Vol = elipsoide(valores)\n",
        "  Volume.append(Vol)"
      ],
      "execution_count": 153,
      "outputs": []
    },
    {
      "cell_type": "code",
      "metadata": {
        "id": "GMonI9jWxiEd"
      },
      "source": [
        "#dimensao[0]"
      ],
      "execution_count": 154,
      "outputs": []
    },
    {
      "cell_type": "code",
      "metadata": {
        "colab": {
          "base_uri": "https://localhost:8080/",
          "height": 423
        },
        "id": "alHDd8Bbrnoc",
        "outputId": "e6fa0863-7015-4def-f441-1e5bf844dcd4"
      },
      "source": [
        "df"
      ],
      "execution_count": 155,
      "outputs": [
        {
          "output_type": "execute_result",
          "data": {
            "text/html": [
              "<div>\n",
              "<style scoped>\n",
              "    .dataframe tbody tr th:only-of-type {\n",
              "        vertical-align: middle;\n",
              "    }\n",
              "\n",
              "    .dataframe tbody tr th {\n",
              "        vertical-align: top;\n",
              "    }\n",
              "\n",
              "    .dataframe thead th {\n",
              "        text-align: right;\n",
              "    }\n",
              "</style>\n",
              "<table border=\"1\" class=\"dataframe\">\n",
              "  <thead>\n",
              "    <tr style=\"text-align: right;\">\n",
              "      <th></th>\n",
              "      <th>Volume</th>\n",
              "    </tr>\n",
              "  </thead>\n",
              "  <tbody>\n",
              "    <tr>\n",
              "      <th>0</th>\n",
              "      <td>42.0</td>\n",
              "    </tr>\n",
              "    <tr>\n",
              "      <th>1</th>\n",
              "      <td>42.0</td>\n",
              "    </tr>\n",
              "    <tr>\n",
              "      <th>2</th>\n",
              "      <td>24.0</td>\n",
              "    </tr>\n",
              "    <tr>\n",
              "      <th>3</th>\n",
              "      <td>30.0</td>\n",
              "    </tr>\n",
              "    <tr>\n",
              "      <th>4</th>\n",
              "      <td>30.0</td>\n",
              "    </tr>\n",
              "    <tr>\n",
              "      <th>...</th>\n",
              "      <td>...</td>\n",
              "    </tr>\n",
              "    <tr>\n",
              "      <th>95</th>\n",
              "      <td>42.0</td>\n",
              "    </tr>\n",
              "    <tr>\n",
              "      <th>96</th>\n",
              "      <td>26.0</td>\n",
              "    </tr>\n",
              "    <tr>\n",
              "      <th>97</th>\n",
              "      <td>50.0</td>\n",
              "    </tr>\n",
              "    <tr>\n",
              "      <th>98</th>\n",
              "      <td>50.0</td>\n",
              "    </tr>\n",
              "    <tr>\n",
              "      <th>99</th>\n",
              "      <td>24.0</td>\n",
              "    </tr>\n",
              "  </tbody>\n",
              "</table>\n",
              "<p>100 rows × 1 columns</p>\n",
              "</div>"
            ],
            "text/plain": [
              "    Volume \n",
              "0      42.0\n",
              "1      42.0\n",
              "2      24.0\n",
              "3      30.0\n",
              "4      30.0\n",
              "..      ...\n",
              "95     42.0\n",
              "96     26.0\n",
              "97     50.0\n",
              "98     50.0\n",
              "99     24.0\n",
              "\n",
              "[100 rows x 1 columns]"
            ]
          },
          "metadata": {},
          "execution_count": 155
        }
      ]
    },
    {
      "cell_type": "code",
      "metadata": {
        "id": "D4UoD3vjsMQN"
      },
      "source": [
        "y = df.iloc[0:,[0]].copy()"
      ],
      "execution_count": 156,
      "outputs": []
    },
    {
      "cell_type": "code",
      "metadata": {
        "id": "qPzPRhwuvMCO"
      },
      "source": [
        "#y = df['Volume'].values\n",
        "#print(y)"
      ],
      "execution_count": 157,
      "outputs": []
    },
    {
      "cell_type": "code",
      "metadata": {
        "id": "sEg22wouzvLN"
      },
      "source": [
        "X = np.array(X)\n",
        "#X =np.concatenate((X,np.array(Volume).reshape(num,1)),axis=1)\n",
        "X =np.concatenate((X,np.array(area_up).reshape(num,1)),axis=1)\n",
        "X =np.concatenate((X,np.array(area_down).reshape(num,1)),axis=1)\n",
        "y = np.array(y)\n",
        "y = y.reshape(-1, 1)\n",
        "X_train, X_test, y_train, y_test = train_test_split(X,y,test_size=0.10, shuffle=True, random_state=3)# 1"
      ],
      "execution_count": 158,
      "outputs": []
    },
    {
      "cell_type": "code",
      "metadata": {
        "id": "r-_TzHNM0f5x"
      },
      "source": [
        "scaler_X = preprocessing.MinMaxScaler((-1,1)).fit(X)\n",
        "scaler_Y = preprocessing.MinMaxScaler((-1,1)).fit(y)"
      ],
      "execution_count": 159,
      "outputs": []
    },
    {
      "cell_type": "code",
      "metadata": {
        "id": "UqGfoQ0y1FVz"
      },
      "source": [
        "X_train = scaler_X.transform(X_train)\n",
        "X_test = scaler_X.transform(X_test)\n",
        "y_train = scaler_Y.transform(y_train)\n",
        "y_test = scaler_Y.transform(y_test)"
      ],
      "execution_count": 160,
      "outputs": []
    },
    {
      "cell_type": "code",
      "metadata": {
        "id": "hCVm_LhQ10Ei",
        "colab": {
          "base_uri": "https://localhost:8080/"
        },
        "outputId": "438c5955-3155-48e3-d0a1-b4176c98d863"
      },
      "source": [
        "# define a rede neural \n",
        "Neurons = [2,4,6,8,10,12,14,16,18,20,22,24,26,28,30]\n",
        "vetor_r2_treino =[]\n",
        "vetor_r2_teste =[]\n",
        "vetor_neuron =[]\n",
        "for N_Hidden in Neurons:\n",
        "  model = MLPRegressor(solver='lbfgs',activation='tanh',alpha=1e-5,hidden_layer_sizes=(N_Hidden), max_iter=1500,random_state=11 )\n",
        "  model.fit(X_train, y_train)\n",
        "  y_calc_train=model.predict(X_train)\n",
        "  y_calc_test=model.predict(X_test)\n",
        "  mse_test=mean_squared_error(y_test,y_calc_test)\n",
        "  R2_test=r2_score(y_test,y_calc_test)\n",
        "  mse_train=mean_squared_error(y_train,y_calc_train)\n",
        "  R2_train=r2_score(y_train,y_calc_train)\n",
        "  vetor_r2_teste.append(R2_test)\n",
        "  vetor_r2_treino.append(R2_train)\n",
        "  vetor_neuron.append(N_Hidden)\n",
        "  print(\"Neurons\",N_Hidden,\"MSE treino=\",mse_train,\"MSE teste=\",mse_test)\n",
        "  print(\"Neurons\",N_Hidden,\"R^2 treino=\",R2_train,\"R^2 teste=\",R2_test)"
      ],
      "execution_count": 161,
      "outputs": [
        {
          "output_type": "stream",
          "name": "stderr",
          "text": [
            "/usr/local/lib/python3.7/dist-packages/sklearn/neural_network/_multilayer_perceptron.py:1599: DataConversionWarning: A column-vector y was passed when a 1d array was expected. Please change the shape of y to (n_samples, ), for example using ravel().\n",
            "  y = column_or_1d(y, warn=True)\n",
            "/usr/local/lib/python3.7/dist-packages/sklearn/neural_network/_multilayer_perceptron.py:1599: DataConversionWarning: A column-vector y was passed when a 1d array was expected. Please change the shape of y to (n_samples, ), for example using ravel().\n",
            "  y = column_or_1d(y, warn=True)\n"
          ]
        },
        {
          "output_type": "stream",
          "name": "stdout",
          "text": [
            "Neurons 2 MSE treino= 0.1052105714761359 MSE teste= 0.28120457869931864\n",
            "Neurons 2 R^2 treino= 0.42655093282483103 R^2 teste= -0.5886076690724007\n",
            "Neurons 4 MSE treino= 0.06855861517640789 MSE teste= 0.5084735543443397\n",
            "Neurons 4 R^2 treino= 0.6263220190886429 R^2 teste= -1.8725171961571525\n"
          ]
        },
        {
          "output_type": "stream",
          "name": "stderr",
          "text": [
            "/usr/local/lib/python3.7/dist-packages/sklearn/neural_network/_multilayer_perceptron.py:1599: DataConversionWarning: A column-vector y was passed when a 1d array was expected. Please change the shape of y to (n_samples, ), for example using ravel().\n",
            "  y = column_or_1d(y, warn=True)\n",
            "/usr/local/lib/python3.7/dist-packages/sklearn/neural_network/_multilayer_perceptron.py:549: ConvergenceWarning: lbfgs failed to converge (status=1):\n",
            "STOP: TOTAL NO. of ITERATIONS REACHED LIMIT.\n",
            "\n",
            "Increase the number of iterations (max_iter) or scale the data as shown in:\n",
            "    https://scikit-learn.org/stable/modules/preprocessing.html\n",
            "  self.n_iter_ = _check_optimize_result(\"lbfgs\", opt_res, self.max_iter)\n",
            "/usr/local/lib/python3.7/dist-packages/sklearn/neural_network/_multilayer_perceptron.py:1599: DataConversionWarning: A column-vector y was passed when a 1d array was expected. Please change the shape of y to (n_samples, ), for example using ravel().\n",
            "  y = column_or_1d(y, warn=True)\n"
          ]
        },
        {
          "output_type": "stream",
          "name": "stdout",
          "text": [
            "Neurons 6 MSE treino= 0.037951241802405125 MSE teste= 0.4824885376987373\n",
            "Neurons 6 R^2 treino= 0.7931471723384294 R^2 teste= -1.7257201670507483\n"
          ]
        },
        {
          "output_type": "stream",
          "name": "stderr",
          "text": [
            "/usr/local/lib/python3.7/dist-packages/sklearn/neural_network/_multilayer_perceptron.py:549: ConvergenceWarning: lbfgs failed to converge (status=1):\n",
            "STOP: TOTAL NO. of ITERATIONS REACHED LIMIT.\n",
            "\n",
            "Increase the number of iterations (max_iter) or scale the data as shown in:\n",
            "    https://scikit-learn.org/stable/modules/preprocessing.html\n",
            "  self.n_iter_ = _check_optimize_result(\"lbfgs\", opt_res, self.max_iter)\n",
            "/usr/local/lib/python3.7/dist-packages/sklearn/neural_network/_multilayer_perceptron.py:1599: DataConversionWarning: A column-vector y was passed when a 1d array was expected. Please change the shape of y to (n_samples, ), for example using ravel().\n",
            "  y = column_or_1d(y, warn=True)\n"
          ]
        },
        {
          "output_type": "stream",
          "name": "stdout",
          "text": [
            "Neurons 8 MSE treino= 0.018422438193019797 MSE teste= 0.9487664457646126\n",
            "Neurons 8 R^2 treino= 0.8995887024596608 R^2 teste= -4.35986170236523\n"
          ]
        },
        {
          "output_type": "stream",
          "name": "stderr",
          "text": [
            "/usr/local/lib/python3.7/dist-packages/sklearn/neural_network/_multilayer_perceptron.py:549: ConvergenceWarning: lbfgs failed to converge (status=1):\n",
            "STOP: TOTAL NO. of ITERATIONS REACHED LIMIT.\n",
            "\n",
            "Increase the number of iterations (max_iter) or scale the data as shown in:\n",
            "    https://scikit-learn.org/stable/modules/preprocessing.html\n",
            "  self.n_iter_ = _check_optimize_result(\"lbfgs\", opt_res, self.max_iter)\n",
            "/usr/local/lib/python3.7/dist-packages/sklearn/neural_network/_multilayer_perceptron.py:1599: DataConversionWarning: A column-vector y was passed when a 1d array was expected. Please change the shape of y to (n_samples, ), for example using ravel().\n",
            "  y = column_or_1d(y, warn=True)\n"
          ]
        },
        {
          "output_type": "stream",
          "name": "stdout",
          "text": [
            "Neurons 10 MSE treino= 0.024170184941709926 MSE teste= 7.421401270318431\n",
            "Neurons 10 R^2 treino= 0.8682606717765171 R^2 teste= -40.925686373328176\n"
          ]
        },
        {
          "output_type": "stream",
          "name": "stderr",
          "text": [
            "/usr/local/lib/python3.7/dist-packages/sklearn/neural_network/_multilayer_perceptron.py:549: ConvergenceWarning: lbfgs failed to converge (status=1):\n",
            "STOP: TOTAL NO. of ITERATIONS REACHED LIMIT.\n",
            "\n",
            "Increase the number of iterations (max_iter) or scale the data as shown in:\n",
            "    https://scikit-learn.org/stable/modules/preprocessing.html\n",
            "  self.n_iter_ = _check_optimize_result(\"lbfgs\", opt_res, self.max_iter)\n",
            "/usr/local/lib/python3.7/dist-packages/sklearn/neural_network/_multilayer_perceptron.py:1599: DataConversionWarning: A column-vector y was passed when a 1d array was expected. Please change the shape of y to (n_samples, ), for example using ravel().\n",
            "  y = column_or_1d(y, warn=True)\n"
          ]
        },
        {
          "output_type": "stream",
          "name": "stdout",
          "text": [
            "Neurons 12 MSE treino= 0.013234024219450542 MSE teste= 0.7395032359086201\n",
            "Neurons 12 R^2 treino= 0.9278680959798905 R^2 teste= -3.1776720610386597\n"
          ]
        },
        {
          "output_type": "stream",
          "name": "stderr",
          "text": [
            "/usr/local/lib/python3.7/dist-packages/sklearn/neural_network/_multilayer_perceptron.py:549: ConvergenceWarning: lbfgs failed to converge (status=1):\n",
            "STOP: TOTAL NO. of ITERATIONS REACHED LIMIT.\n",
            "\n",
            "Increase the number of iterations (max_iter) or scale the data as shown in:\n",
            "    https://scikit-learn.org/stable/modules/preprocessing.html\n",
            "  self.n_iter_ = _check_optimize_result(\"lbfgs\", opt_res, self.max_iter)\n",
            "/usr/local/lib/python3.7/dist-packages/sklearn/neural_network/_multilayer_perceptron.py:1599: DataConversionWarning: A column-vector y was passed when a 1d array was expected. Please change the shape of y to (n_samples, ), for example using ravel().\n",
            "  y = column_or_1d(y, warn=True)\n"
          ]
        },
        {
          "output_type": "stream",
          "name": "stdout",
          "text": [
            "Neurons 14 MSE treino= 0.0028781131509709773 MSE teste= 1.777076469923389\n",
            "Neurons 14 R^2 treino= 0.9843128758023784 R^2 teste= -9.039229523595397\n"
          ]
        },
        {
          "output_type": "stream",
          "name": "stderr",
          "text": [
            "/usr/local/lib/python3.7/dist-packages/sklearn/neural_network/_multilayer_perceptron.py:549: ConvergenceWarning: lbfgs failed to converge (status=1):\n",
            "STOP: TOTAL NO. of ITERATIONS REACHED LIMIT.\n",
            "\n",
            "Increase the number of iterations (max_iter) or scale the data as shown in:\n",
            "    https://scikit-learn.org/stable/modules/preprocessing.html\n",
            "  self.n_iter_ = _check_optimize_result(\"lbfgs\", opt_res, self.max_iter)\n",
            "/usr/local/lib/python3.7/dist-packages/sklearn/neural_network/_multilayer_perceptron.py:1599: DataConversionWarning: A column-vector y was passed when a 1d array was expected. Please change the shape of y to (n_samples, ), for example using ravel().\n",
            "  y = column_or_1d(y, warn=True)\n"
          ]
        },
        {
          "output_type": "stream",
          "name": "stdout",
          "text": [
            "Neurons 16 MSE treino= 0.0028702083254269614 MSE teste= 7.833056311436847\n",
            "Neurons 16 R^2 treino= 0.9843559609674031 R^2 teste= -43.2512472100608\n",
            "Neurons 18 MSE treino= 9.588182725402816e-05 MSE teste= 15.786541802653915\n",
            "Neurons 18 R^2 treino= 0.9994773971510045 R^2 teste= -88.1828344041427\n"
          ]
        },
        {
          "output_type": "stream",
          "name": "stderr",
          "text": [
            "/usr/local/lib/python3.7/dist-packages/sklearn/neural_network/_multilayer_perceptron.py:1599: DataConversionWarning: A column-vector y was passed when a 1d array was expected. Please change the shape of y to (n_samples, ), for example using ravel().\n",
            "  y = column_or_1d(y, warn=True)\n"
          ]
        },
        {
          "output_type": "stream",
          "name": "stdout",
          "text": [
            "Neurons 20 MSE treino= 9.808709310449163e-05 MSE teste= 3.8750878098398003\n",
            "Neurons 20 R^2 treino= 0.9994653773736468 R^2 teste= -20.891514859090716\n"
          ]
        },
        {
          "output_type": "stream",
          "name": "stderr",
          "text": [
            "/usr/local/lib/python3.7/dist-packages/sklearn/neural_network/_multilayer_perceptron.py:1599: DataConversionWarning: A column-vector y was passed when a 1d array was expected. Please change the shape of y to (n_samples, ), for example using ravel().\n",
            "  y = column_or_1d(y, warn=True)\n"
          ]
        },
        {
          "output_type": "stream",
          "name": "stdout",
          "text": [
            "Neurons 22 MSE treino= 1.6481861405443452e-05 MSE teste= 3.3596651030598346\n",
            "Neurons 22 R^2 treino= 0.9999101657949799 R^2 teste= -17.97973984962252\n"
          ]
        },
        {
          "output_type": "stream",
          "name": "stderr",
          "text": [
            "/usr/local/lib/python3.7/dist-packages/sklearn/neural_network/_multilayer_perceptron.py:1599: DataConversionWarning: A column-vector y was passed when a 1d array was expected. Please change the shape of y to (n_samples, ), for example using ravel().\n",
            "  y = column_or_1d(y, warn=True)\n"
          ]
        },
        {
          "output_type": "stream",
          "name": "stdout",
          "text": [
            "Neurons 24 MSE treino= 2.6452626926353106e-05 MSE teste= 8.348785188466866\n",
            "Neurons 24 R^2 treino= 0.999855820246745 R^2 teste= -46.16475186564473\n"
          ]
        },
        {
          "output_type": "stream",
          "name": "stderr",
          "text": [
            "/usr/local/lib/python3.7/dist-packages/sklearn/neural_network/_multilayer_perceptron.py:1599: DataConversionWarning: A column-vector y was passed when a 1d array was expected. Please change the shape of y to (n_samples, ), for example using ravel().\n",
            "  y = column_or_1d(y, warn=True)\n"
          ]
        },
        {
          "output_type": "stream",
          "name": "stdout",
          "text": [
            "Neurons 26 MSE treino= 3.303284090294825e-05 MSE teste= 5.019559834072421\n",
            "Neurons 26 R^2 treino= 0.9998199548625564 R^2 teste= -27.35697514122502\n"
          ]
        },
        {
          "output_type": "stream",
          "name": "stderr",
          "text": [
            "/usr/local/lib/python3.7/dist-packages/sklearn/neural_network/_multilayer_perceptron.py:1599: DataConversionWarning: A column-vector y was passed when a 1d array was expected. Please change the shape of y to (n_samples, ), for example using ravel().\n",
            "  y = column_or_1d(y, warn=True)\n"
          ]
        },
        {
          "output_type": "stream",
          "name": "stdout",
          "text": [
            "Neurons 28 MSE treino= 5.780204305563175e-05 MSE teste= 2.3239826511528965\n",
            "Neurons 28 R^2 treino= 0.9996849505975871 R^2 teste= -12.128863973300751\n"
          ]
        },
        {
          "output_type": "stream",
          "name": "stderr",
          "text": [
            "/usr/local/lib/python3.7/dist-packages/sklearn/neural_network/_multilayer_perceptron.py:1599: DataConversionWarning: A column-vector y was passed when a 1d array was expected. Please change the shape of y to (n_samples, ), for example using ravel().\n",
            "  y = column_or_1d(y, warn=True)\n"
          ]
        },
        {
          "output_type": "stream",
          "name": "stdout",
          "text": [
            "Neurons 30 MSE treino= 1.4468013053505548e-05 MSE teste= 3.6212311974458573\n",
            "Neurons 30 R^2 treino= 0.999921142253359 R^2 teste= -19.457403924058724\n"
          ]
        }
      ]
    },
    {
      "cell_type": "code",
      "metadata": {
        "id": "xpZQWSibp7Gr",
        "colab": {
          "base_uri": "https://localhost:8080/",
          "height": 296
        },
        "outputId": "13e52dee-c4df-4885-d8b1-2c2ec46aacc2"
      },
      "source": [
        "plt.plot(vetor_neuron,vetor_r2_treino,vetor_neuron,vetor_r2_teste)\n",
        "plt.legend(['treino','teste'])\n",
        "plt.xlabel('Neuronios')\n",
        "plt.ylabel('coeficiente de correlacao')"
      ],
      "execution_count": 162,
      "outputs": [
        {
          "output_type": "execute_result",
          "data": {
            "text/plain": [
              "Text(0, 0.5, 'coeficiente de correlacao')"
            ]
          },
          "metadata": {},
          "execution_count": 162
        },
        {
          "output_type": "display_data",
          "data": {
            "image/png": "[encoded data removed]",
            "text/plain": [
              "<Figure size 432x288 with 1 Axes>"
            ]
          },
          "metadata": {
            "needs_background": "light"
          }
        }
      ]
    }
  ]
}